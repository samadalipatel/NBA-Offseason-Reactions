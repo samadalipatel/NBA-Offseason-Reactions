{
 "cells": [
  {
   "cell_type": "markdown",
   "metadata": {
    "hide_input": false
   },
   "source": [
    " <h1><center>NBA Offseason 2018</center></h1>\n",
    " <h2><center>Samad Patel</center></h2>\n",
    "![NBA Offseason](https://moderatespice.com/wp-content/uploads/2018/07/Screen-Shot-2018-07-05-at-7.38.06-PM.png)"
   ]
  },
  {
   "cell_type": "markdown",
   "metadata": {},
   "source": [
    "<script>\n",
    "code_show=true; \n",
    "function code_toggle() {\n",
    " if (code_show){\n",
    " $('div.input').hide();\n",
    " } else {\n",
    " $('div.input').show();\n",
    " }\n",
    " code_show = !code_show\n",
    "} \n",
    "$( document ).ready(code_toggle);\n",
    "</script>"
   ]
  },
  {
   "cell_type": "markdown",
   "metadata": {},
   "source": [
    "# Abstract\n",
    "\n",
    "The NBA Offseason is an incredibly exciting time. Trades, drafts, (the previous year's awards for some reason) and free-agents dominate the NBA media landscape and captivate the attention of fans around the world. \n",
    "\n",
    "With each decision and change, fan reactions can be incredibly diverse. The purpose of this project is to analyze fan reactions to various free-agent decisions. The fan reactions will be taken from threads in the NBA subreddit (reddit.com/r/nba). \n",
    "\n",
    "I will use sentiment analysis with the Natural Language Toolkit (nltk) to determine fan reactions. I will only use first-level comments, or, in other words, the comments at the top of the threads. The reasoning behind this is that top-level comments are more likely to be purely reactionary, whereas comments later in threads tend to diverge in topic. \n",
    "\n",
    "I will run the comments through the sentiment analysis model to determine whether or not the reaction is positive or negative. Then I will weight the reaction based on the score of the comment (score = number of upvotes - number of downvotes). Thus, comments with a higher score are weighted more heavily since the score tends to indicate many other users agreed with the opinion. \n",
    "\n",
    "The html/pdf version of this module will only demonstrate the output. Feel free to look at the jupyter notebook to view the code. "
   ]
  },
  {
   "cell_type": "markdown",
   "metadata": {},
   "source": [
    "# Part One: Creating the Model"
   ]
  },
  {
   "cell_type": "code",
   "execution_count": 12,
   "metadata": {},
   "outputs": [],
   "source": [
    "# Necessary imports \n",
    "import numpy as np \n",
    "from __future__ import print_function\n",
    "\n",
    "import nltk.classify.util\n",
    "from nltk.classify import NaiveBayesClassifier\n",
    "from nltk.corpus import opinion_lexicon\n",
    "from nltk.corpus import subjectivity\n",
    "from nltk.corpus import stopwords\n",
    "from nltk.tokenize import word_tokenize\n",
    "from nltk.corpus import wordnet\n",
    "\n",
    "import re\n",
    "import random"
   ]
  },
  {
   "cell_type": "markdown",
   "metadata": {
    "hide_input": true
   },
   "source": [
    "To create the model, we need to feed it pre-classified words based on their positive or negative connotation. NLTK has a corpus called \"opinion-lexicon\" of positively and negatively connoted words. These are the words we'll use to train our model. Here are some examples from \"opinion-lexicon\": "
   ]
  },
  {
   "cell_type": "code",
   "execution_count": 13,
   "metadata": {
    "code_folding": []
   },
   "outputs": [
    {
     "name": "stdout",
     "output_type": "stream",
     "text": [
      "Positive words: ['cheerful' 'meritorious' 'suitable' 'solidarity' 'satisfactory']\n",
      "Negative words: ['anguish' 'carelessness' 'backward' 'destitution' 'eyesore']\n"
     ]
    }
   ],
   "source": [
    "pos_words = np.array(opinion_lexicon.positive()) # load positive words \n",
    "    \n",
    "neg_words = np.array(opinion_lexicon.negative()) # load negative words \n",
    "\n",
    "random.seed(1)\n",
    "print('Positive words:', pos_words[random.sample(range(len(pos_words)), 5)])\n",
    "print('Negative words:', neg_words[random.sample(range(len(pos_words)), 5)])"
   ]
  },
  {
   "cell_type": "code",
   "execution_count": 14,
   "metadata": {},
   "outputs": [],
   "source": [
    "positive = []\n",
    "for word in pos_words:\n",
    "    positive.append(tuple([dict([[word, True]]), 'positive' ]))\n",
    "negative = []\n",
    "for word in neg_words:\n",
    "    negative.append(tuple([dict([[word, True]]), 'negative']))\n",
    "\n",
    "positive = np.array(positive)\n",
    "negative = np.array(negative)"
   ]
  },
  {
   "cell_type": "markdown",
   "metadata": {},
   "source": [
    "We'll now randomly split this data into a training and test set - 70% of the data for training, 30% to test with. Then we'll see what proportion of the test data the model correctly predicts. We're using a Naive Bayes Classifier. "
   ]
  },
  {
   "cell_type": "code",
   "execution_count": 15,
   "metadata": {},
   "outputs": [],
   "source": [
    "random.seed(100)\n",
    "train_pos_indices = random.sample(range(len(positive)), int(round(len(positive)*.7)))\n",
    "test_pos_indices = [x for x in np.array(range(len(positive))) if x not in train_pos_indices]\n",
    "\n",
    "train_neg_indices = random.sample(range(len(negative)), int(round(len(negative)*.7)))\n",
    "test_neg_indices = [x for x in np.array(range(len(negative))) if x not in train_neg_indices]\n",
    "\n",
    "train = np.concatenate((positive[train_pos_indices], negative[train_neg_indices]))\n",
    "test = np.concatenate((positive[test_pos_indices], negative[test_neg_indices]))"
   ]
  },
  {
   "cell_type": "code",
   "execution_count": 16,
   "metadata": {},
   "outputs": [
    {
     "name": "stdout",
     "output_type": "stream",
     "text": [
      "The model correclty predicted 70.45% of the data\n"
     ]
    }
   ],
   "source": [
    "classifier = NaiveBayesClassifier.train(train)\n",
    "accuracy = nltk.classify.util.accuracy(classifier, test)\n",
    "print('The model correclty predicted {}% of the data'.format(round(accuracy * 100, 2)), )"
   ]
  },
  {
   "cell_type": "markdown",
   "metadata": {},
   "source": [
    "Not terribly bad for an untuned model. I'm not especially concerned for sky-high levels of accuracy, so we'll leave the model as is and continue on with the project. "
   ]
  },
  {
   "cell_type": "markdown",
   "metadata": {},
   "source": [
    "# Part Two: Collecting Data\n",
    "\n",
    "We need to query reddit's API to select our data for each news thread. We'll be focusing on the following threads: \n",
    "\n",
    "1. [Withers] LeBron signing with Lakers. (https://tinyurl.com/yaelyn95)\n",
    "\n",
    "2. [Charania] Free agent DeMarcus Cousins has agreed to a deal with the Golden State Warriors. (https://tinyurl.com/y7kj8uyu)\n",
    "\n",
    "3. [Wojnarowski] Paul George has committed to sign a deal with the Oklahoma City Thunder, league sources tell ESPN. (https://tinyurl.com/yav7akjz)"
   ]
  },
  {
   "cell_type": "code",
   "execution_count": 17,
   "metadata": {
    "code_folding": []
   },
   "outputs": [],
   "source": [
    "# Connecting to the reddit API\n",
    "# Necessary imports \n",
    "import praw\n",
    "from praw.models import MoreComments\n",
    "import string as s\n",
    "from copy import deepcopy"
   ]
  },
  {
   "cell_type": "code",
   "execution_count": 18,
   "metadata": {},
   "outputs": [],
   "source": [
    "reddit = praw.Reddit(client_id='', \n",
    "                     client_secret='', \n",
    "                     user_agent='NBA Free-Agent Reactions', \n",
    "                     username='', \n",
    "                     password='')"
   ]
  },
  {
   "cell_type": "markdown",
   "metadata": {},
   "source": [
    "## LeBron to the Lakers\n",
    "\n",
    "Here are the top three comments on that thread: "
   ]
  },
  {
   "cell_type": "code",
   "execution_count": 19,
   "metadata": {},
   "outputs": [],
   "source": [
    "# Instantiate the thread we're using \n",
    "submission = reddit.submission(url='https://www.reddit.com/r/nba/comments/8ve9rs/withers_lebron_signing_with_lakers/')\n",
    "# Create empty list \n",
    "lebron = []\n",
    "# Append top-level comments to list \n",
    "for top_level_comment in submission.comments:\n",
    "    if isinstance(top_level_comment, MoreComments):\n",
    "        continue\n",
    "    lebron.append(top_level_comment.body)\n",
    "# The top comment is a stickied comment with no score, so remove it \n",
    "lebron = lebron[1:]"
   ]
  },
  {
   "cell_type": "code",
   "execution_count": 20,
   "metadata": {},
   "outputs": [
    {
     "name": "stdout",
     "output_type": "stream",
     "text": [
      "b\"as a lakers fan since july 2018 i can't put into words how much this means to me\"\n",
      "\n",
      "\n",
      "b'Comments moving so fast no one will know I love my wife '\n",
      "\n",
      "\n",
      "b'Does this hurt his chances of going to Houston?'\n",
      "\n",
      "\n"
     ]
    }
   ],
   "source": [
    "for comment in lebron[:3]:\n",
    "    print(comment.encode('ascii', 'ignore'))\n",
    "    print('\\n')"
   ]
  },
  {
   "cell_type": "markdown",
   "metadata": {},
   "source": [
    "## Boogie to the Warriors\n",
    "\n",
    "Here are the top three comments on that thread: "
   ]
  },
  {
   "cell_type": "code",
   "execution_count": 112,
   "metadata": {},
   "outputs": [],
   "source": [
    "# Instantiate the thread we're using \n",
    "submission = reddit.submission(url='https://www.reddit.com/r/nba/comments/8vnrvy/charania_free_agent_demarcus_cousins_has_agreed/')\n",
    "# Empty list to append to\n",
    "boogie = []\n",
    "# Append top-level comments to list\n",
    "for top_level_comment in submission.comments:\n",
    "    if isinstance(top_level_comment, MoreComments):\n",
    "        continue\n",
    "    boogie.append(top_level_comment.body)\n",
    "# The top comment is a stickied comment with no score, so remove it \n",
    "boogie = boogie[1:]"
   ]
  },
  {
   "cell_type": "code",
   "execution_count": 11,
   "metadata": {},
   "outputs": [
    {
     "name": "stdout",
     "output_type": "stream",
     "text": [
      "b'_R.I.P Lakers bandwagon_\\n\\n_7/1/2018 to 7/2/2018_'\n",
      "\n",
      "\n",
      "b'Kill me\\n\\nEdit: 5.3mil..... I fucking hate everything '\n",
      "\n",
      "\n",
      "b'CURRY/KLAY/KD/DRAY/DMC\\n\\nSHUT THE WHOLE DAMN LEAGUE DOWN'\n",
      "\n",
      "\n"
     ]
    }
   ],
   "source": [
    "for comment in boogie[:3]:\n",
    "    print(comment.encode('ascii', 'ignore'))\n",
    "    print('\\n')"
   ]
  },
  {
   "cell_type": "markdown",
   "metadata": {},
   "source": [
    "Who'd have thought the internet would be angry at the Warriors for adding another All-Star??? But does the model reflect this anger? We'll find out shortly. "
   ]
  },
  {
   "cell_type": "markdown",
   "metadata": {},
   "source": [
    "## PG13 Staying in OKC\n",
    "\n",
    "Here are the top three comments in that thread: "
   ]
  },
  {
   "cell_type": "code",
   "execution_count": 108,
   "metadata": {},
   "outputs": [],
   "source": [
    "# Instantiate the thread we're using \n",
    "submission = reddit.submission(url='https://www.reddit.com/r/nba/comments/8v7ac7/wojnarowski_paul_george_has_committed_to_sign_a/')\n",
    "# Empty list to append to\n",
    "pg = []\n",
    "# Append top-level comments to list\n",
    "for top_level_comment in submission.comments:\n",
    "    if isinstance(top_level_comment, MoreComments):\n",
    "        continue\n",
    "    pg.append(top_level_comment.body)\n",
    "# The top comment is a stickied comment with no score, so remove it \n",
    "pg = pg[1:]"
   ]
  },
  {
   "cell_type": "code",
   "execution_count": 13,
   "metadata": {},
   "outputs": [
    {
     "name": "stdout",
     "output_type": "stream",
     "text": [
      "b'Delete thi- Wait no this one is real'\n",
      "\n",
      "\n",
      "b'This is why you trade for a Superstar even if his contract is expiring, good for OKC.'\n",
      "\n",
      "\n",
      "b'I know this is a thread for one-line reactions and all that but... I am really, really surprised. I thought he was *so* gone after that press conference and that awful first round loss to the Jazz. This should really put paid to a lot of the Westbrook hot takes that are so common today, and it should also show the value of trading for a player and taking a gamble, because it might turn out a lot better than you think.\\n\\nCongrats, OKC! Another year to make it work. \\n\\nEDIT - another four years, damn'\n",
      "\n",
      "\n"
     ]
    }
   ],
   "source": [
    "for comment in pg[:3]:\n",
    "    print(comment.encode('ascii', 'ignore'))\n",
    "    print('\\n')"
   ]
  },
  {
   "cell_type": "markdown",
   "metadata": {},
   "source": [
    "# Part Three: Implementing the Model\n",
    "\n",
    "This section formats the data in the way the model understands and then spits out the class predictions. We'll break it down into two parts - one model assuming that each comment should be weighed equally, and another that assumes higher-scored comments have greater weights. "
   ]
  },
  {
   "cell_type": "markdown",
   "metadata": {},
   "source": [
    "## Unweighted Model"
   ]
  },
  {
   "cell_type": "code",
   "execution_count": 24,
   "metadata": {
    "code_folding": [
     0
    ]
   },
   "outputs": [],
   "source": [
    "# Check if output would have been the same with a function \n",
    "def format_words(comments_input):\n",
    "    # Create a copy of input list \n",
    "    new_comments = deepcopy(comments_input)\n",
    "    \n",
    "    for i in range(len(new_comments)): \n",
    "        # Remove newlines, punctuation, and urls \n",
    "        new_comments[i] = re.sub(r'\\n', ' ', new_comments[i])\n",
    "        new_comments[i] = re.sub(r'[^\\w\\s]', '', new_comments[i])\n",
    "        new_comments[i] = re.sub(r'http\\S+', '', new_comments[i])\n",
    "        # Make every word lowercase \n",
    "        new_comments[i] = new_comments[i].lower()\n",
    "    \n",
    "    words = []\n",
    "    for comment in new_comments:\n",
    "        tokenized = word_tokenize(comment)\n",
    "        # Remove stopwords\n",
    "        useful_words = [word for word in tokenized if word not in stopwords.words('english')]\n",
    "        # Create dictionary\n",
    "        my_dict = dict([(word, True) for word in useful_words])\n",
    "        # Append to words\n",
    "        words.append(my_dict)\n",
    "    # Return final list\n",
    "    return(words)"
   ]
  },
  {
   "cell_type": "code",
   "execution_count": 15,
   "metadata": {
    "code_folding": []
   },
   "outputs": [
    {
     "name": "stdout",
     "output_type": "stream",
     "text": [
      "About 67.86% of comments regarding LeBron's move were negative.\n"
     ]
    }
   ],
   "source": [
    "input_data = format_words(lebron)\n",
    "pos = 0\n",
    "neg = 0\n",
    "for comment in input_data:\n",
    "    result = classifier.classify(comment)\n",
    "    if result == 'negative':\n",
    "        neg = neg + 1\n",
    "    if result == 'positive':\n",
    "        pos = pos + 1\n",
    "print('About {}% of comments regarding LeBron\\'s move were negative.'.format(round((float(neg)/(neg+pos)*100), 2)))"
   ]
  },
  {
   "cell_type": "code",
   "execution_count": 16,
   "metadata": {
    "code_folding": [
     3
    ]
   },
   "outputs": [
    {
     "name": "stdout",
     "output_type": "stream",
     "text": [
      "About 81.42% of comments regarding Boogie's move were negative.\n"
     ]
    }
   ],
   "source": [
    "input_data = format_words(boogie)\n",
    "pos = 0\n",
    "neg = 0\n",
    "for comment in input_data:\n",
    "    result = classifier.classify(comment)\n",
    "    if result == 'negative':\n",
    "        neg = neg + 1\n",
    "    if result == 'positive':\n",
    "        pos = pos + 1\n",
    "print('About {}% of comments regarding Boogie\\'s move were negative.'.format(round((float(neg)/(neg+pos)*100), 2)))"
   ]
  },
  {
   "cell_type": "code",
   "execution_count": 17,
   "metadata": {
    "code_folding": [
     3
    ]
   },
   "outputs": [
    {
     "name": "stdout",
     "output_type": "stream",
     "text": [
      "About 75.23% of comments regarding PG's move were negative.\n"
     ]
    }
   ],
   "source": [
    "input_data = format_words(pg)\n",
    "pos = 0\n",
    "neg = 0\n",
    "for comment in input_data:\n",
    "    result = classifier.classify(comment)\n",
    "    if result == 'negative':\n",
    "        neg = neg + 1\n",
    "    if result == 'positive':\n",
    "        pos = pos + 1\n",
    "print('About {}% of comments regarding PG\\'s move were negative.'.format(round((float(neg)/(neg+pos)*100), 2)))"
   ]
  },
  {
   "cell_type": "code",
   "execution_count": 27,
   "metadata": {},
   "outputs": [
    {
     "data": {
      "image/png": "[encoded data removed]",
      "text/plain": [
       "<Figure size 720x360 with 1 Axes>"
      ]
     },
     "metadata": {},
     "output_type": "display_data"
    }
   ],
   "source": [
    "import matplotlib\n",
    "import matplotlib.pyplot as plt\n",
    "plt.style.use('fivethirtyeight')\n",
    "matplotlib.rcParams['figure.figsize'] = [10, 5]\n",
    "\n",
    "neg = np.array([67.86,81.42,75.23])\n",
    "pos = 100 - neg\n",
    "ind = np.arange(3) \n",
    "p1 = plt.bar(ind, pos)\n",
    "p2 = plt.bar(ind, neg, bottom = pos)\n",
    "plt.title('Sentiment of Reddit Comments \\n Unweighted')\n",
    "plt.xlabel('Player')\n",
    "plt.ylabel('Percent')\n",
    "plt.xticks(ind, ('LeBron', 'Boogie', 'PG13'))\n",
    "plt.legend(('Positive', 'Negative'))\n",
    "plt.show()"
   ]
  },
  {
   "cell_type": "markdown",
   "metadata": {},
   "source": [
    "## Weighted Model\n",
    "\n",
    "First, we need to use the API to determine the score for each comment. Then we'll determine the weight as the proportion of each score over the sum of all scores. "
   ]
  },
  {
   "cell_type": "code",
   "execution_count": 22,
   "metadata": {
    "scrolled": true
   },
   "outputs": [],
   "source": [
    "# Instantiate LeBron submission\n",
    "submission = reddit.submission(url='https://www.reddit.com/r/nba/comments/8ve9rs/withers_lebron_signing_with_lakers/')\n",
    "\n",
    "# We need the comment ID to determine score\n",
    "ids = []\n",
    "for top_level_comment in submission.comments:\n",
    "    if isinstance(top_level_comment, MoreComments):\n",
    "        continue\n",
    "    ids.append(top_level_comment.id)\n",
    "\n",
    "# Remember that we took out the first comment, so only append from 1 onward \n",
    "# List that will contain our scores \n",
    "votes_lebron = []\n",
    "for id_no in ids[1:]: \n",
    "    comment = reddit.comment(id = id_no)\n",
    "    votes_lebron.append(comment.score)"
   ]
  },
  {
   "cell_type": "code",
   "execution_count": 20,
   "metadata": {},
   "outputs": [
    {
     "name": "stdout",
     "output_type": "stream",
     "text": [
      "About 68.61% of comments regarding LeBron's move were negative.\n"
     ]
    }
   ],
   "source": [
    "input_data = format_words(lebron)\n",
    "pos = 0\n",
    "neg = 0\n",
    "\n",
    "for i in range(len(input_data)):\n",
    "    result = classifier.classify(input_data[i])\n",
    "    prop = np.float(votes_lebron[i])/np.sum(votes_lebron)\n",
    "    if result == 'negative':\n",
    "        neg = neg + (1*prop)\n",
    "    if result == 'positive':\n",
    "        pos = pos + (1*prop)\n",
    "        \n",
    "print('About {}% of comments regarding LeBron\\'s move were negative.'.format(round((float(neg)/(neg+pos)*100), 2)))"
   ]
  },
  {
   "cell_type": "code",
   "execution_count": 21,
   "metadata": {},
   "outputs": [],
   "source": [
    "# Instantiate Boogie submission\n",
    "submission = reddit.submission(url='https://www.reddit.com/r/nba/comments/8vnrvy/charania_free_agent_demarcus_cousins_has_agreed/')\n",
    "\n",
    "# We need the comment ID to determine score\n",
    "ids = []\n",
    "for top_level_comment in submission.comments:\n",
    "    if isinstance(top_level_comment, MoreComments):\n",
    "        continue\n",
    "    ids.append(top_level_comment.id)\n",
    "\n",
    "# Remember that we took out the first comment, so only append from 1 onward \n",
    "# List that will contain our scores \n",
    "votes_boogie = []\n",
    "for id_no in ids[1:]: \n",
    "    comment = reddit.comment(id = id_no)\n",
    "    votes_boogie.append(comment.score)"
   ]
  },
  {
   "cell_type": "code",
   "execution_count": 22,
   "metadata": {},
   "outputs": [
    {
     "name": "stdout",
     "output_type": "stream",
     "text": [
      "About 89.24% of comments regarding Boogie's move were negative.\n"
     ]
    }
   ],
   "source": [
    "input_data = format_words(boogie)\n",
    "pos = 0\n",
    "neg = 0\n",
    "\n",
    "for i in range(len(input_data)):\n",
    "    result = classifier.classify(input_data[i])\n",
    "    prop = np.float(votes_boogie[i])/np.sum(votes_boogie)\n",
    "    if result == 'negative':\n",
    "        neg = neg + (1*prop)\n",
    "    if result == 'positive':\n",
    "        pos = pos + (1*prop)\n",
    "        \n",
    "print('About {}% of comments regarding Boogie\\'s move were negative.'.format(round((float(neg)/(neg+pos)*100), 2)))"
   ]
  },
  {
   "cell_type": "code",
   "execution_count": 110,
   "metadata": {},
   "outputs": [],
   "source": [
    "# Instantiate the thread we're using \n",
    "submission = reddit.submission(url='https://www.reddit.com/r/nba/comments/8v7ac7/wojnarowski_paul_george_has_committed_to_sign_a/')\n",
    "\n",
    "# We need the comment ID to determine score\n",
    "ids = []\n",
    "for top_level_comment in submission.comments:\n",
    "    if isinstance(top_level_comment, MoreComments):\n",
    "        continue\n",
    "    ids.append(top_level_comment.id)\n",
    "\n",
    "# Remember that we took out the first comment, so only append from 1 onward \n",
    "# List that will contain our scores \n",
    "votes_pg = []\n",
    "for id_no in ids[1:]: \n",
    "    comment = reddit.comment(id = id_no)\n",
    "    votes_pg.append(comment.score)"
   ]
  },
  {
   "cell_type": "code",
   "execution_count": 24,
   "metadata": {},
   "outputs": [
    {
     "name": "stdout",
     "output_type": "stream",
     "text": [
      "About 71.13% of comments regarding PG's move were negative.\n"
     ]
    }
   ],
   "source": [
    "input_data = format_words(pg)\n",
    "pos = 0\n",
    "neg = 0\n",
    "\n",
    "for i in range(len(input_data)):\n",
    "    result = classifier.classify(input_data[i])\n",
    "    prop = np.float(votes_pg[i])/np.sum(votes_pg)\n",
    "    if result == 'negative':\n",
    "        neg = neg + (1*prop)\n",
    "    if result == 'positive':\n",
    "        pos = pos + (1*prop)\n",
    "        \n",
    "print('About {}% of comments regarding PG\\'s move were negative.'.format(round((float(neg)/(neg+pos)*100), 2)))"
   ]
  },
  {
   "cell_type": "code",
   "execution_count": 28,
   "metadata": {
    "scrolled": true
   },
   "outputs": [
    {
     "data": {
      "image/png": "[encoded data removed]",
      "text/plain": [
       "<Figure size 720x360 with 1 Axes>"
      ]
     },
     "metadata": {},
     "output_type": "display_data"
    }
   ],
   "source": [
    "plt.style.use('fivethirtyeight')\n",
    "matplotlib.rcParams['figure.figsize'] = [10, 5]\n",
    "\n",
    "neg = np.array([68.61,89.24,71.13])\n",
    "pos = 100 - neg\n",
    "ind = np.arange(3) \n",
    "p1 = plt.bar(ind, pos)\n",
    "p2 = plt.bar(ind, neg, bottom = pos)\n",
    "plt.title('Sentiment of Reddit Comments \\n Weighted')\n",
    "plt.xlabel('Player')\n",
    "plt.ylabel('Percent')\n",
    "plt.xticks(ind, ('LeBron', 'Boogie', 'PG13'))\n",
    "plt.legend(('Positive', 'Negative'))\n",
    "plt.show()"
   ]
  },
  {
   "cell_type": "markdown",
   "metadata": {},
   "source": [
    "# Part Four: Improved Models\n",
    "\n",
    "From skimming the comment threads, they don't seem to actually be this negative. It turns out that the model classifies any words it's unfamiliar with as negative, which leads to an emormous overestimation of negative words. The words the model is trained on are all properly spelled and punctuated, which is not representative of the nature of reddit coments. \n",
    "\n",
    "There is no available corpus in the NLTK library for reddit comments, so let's try using the twitter_samples and sentence_polarity. \n",
    "\n",
    "## Twitter Samples"
   ]
  },
  {
   "cell_type": "code",
   "execution_count": 21,
   "metadata": {},
   "outputs": [],
   "source": [
    "from nltk.corpus import twitter_samples\n",
    "\n",
    "def format_tweets(tweets, tweet_type):\n",
    "    # TWEET_TYPE MUST BE EITHER positive OR negative\n",
    "    \n",
    "    # First, clean the tweets (replace smileys, change format to string, tokenize words)\n",
    "    for i in range(len(tweets)):\n",
    "        tweets[i] = tweets[i].replace(':', \"\").replace(')', '').replace('(', '').replace('\\\\', '').replace('/', '')\n",
    "        # tweets[i] = tweets[i].encode('ascii', 'ignore')\n",
    "        tweets[i] = word_tokenize(tweets[i])\n",
    "    \n",
    "    # Create a list that will contain the dictionary of words in each tweet\n",
    "    words = []\n",
    "    for tweet in tweets:\n",
    "        # Remove stopwords\n",
    "        useful_words = [word for word in tweet if word not in stopwords.words('english')]\n",
    "        # Create dictionary\n",
    "        my_dict = dict([(word, True) for word in useful_words])\n",
    "        # Append to words\n",
    "        words.append((my_dict, tweet_type))\n",
    "    # Return final list\n",
    "    return(words)\n",
    "\n",
    "negative = twitter_samples.strings('negative_tweets.json')\n",
    "neg_tweets = format_tweets(negative, 'negative')\n",
    "positive = twitter_samples.strings('positive_tweets.json')\n",
    "pos_tweets = format_tweets(positive, 'positive')"
   ]
  },
  {
   "cell_type": "code",
   "execution_count": 124,
   "metadata": {},
   "outputs": [
    {
     "name": "stdout",
     "output_type": "stream",
     "text": [
      "The accuracy of the twitter_samples model is 75.51515151515152.\n"
     ]
    }
   ],
   "source": [
    "# Train, test, evaluate \n",
    "train = neg_tweets[1650:] + pos_tweets[1650:]\n",
    "test = neg_tweets[:1650] + pos_tweets[:1650]\n",
    "classifier = NaiveBayesClassifier.train(train)\n",
    "accuracy = nltk.classify.util.accuracy(classifier, test)\n",
    "print('The accuracy of the twitter_samples model is {}.'.format(accuracy * 100))"
   ]
  },
  {
   "cell_type": "code",
   "execution_count": 117,
   "metadata": {},
   "outputs": [
    {
     "name": "stdout",
     "output_type": "stream",
     "text": [
      "About 60.71% of comments regarding LeBron's move were negative based on the twitter_samples model.\n",
      "About 66.06% of comments regarding PG's move were negative based on the twitter_sampels model.\n",
      "About 69.03% of comments regarding Boogie's move were negative based on the twitter_samples model.\n"
     ]
    }
   ],
   "source": [
    "# Test it on LeBron\n",
    "input_data = format_words(lebron)\n",
    "pos = 0\n",
    "neg = 0\n",
    "for comment in input_data:\n",
    "    result = classifier.classify(comment)\n",
    "    if result == 'negative':\n",
    "        neg = neg + 1\n",
    "    if result == 'positive':\n",
    "        pos = pos + 1\n",
    "print('About {}% of comments regarding LeBron\\'s move were negative based on the twitter_samples model.'.format(round((float(neg)/(neg+pos)*100), 2)))\n",
    "\n",
    "input_data = format_words(pg)\n",
    "pos = 0\n",
    "neg = 0\n",
    "\n",
    "for i in range(len(input_data)):\n",
    "    result = classifier.classify(input_data[i])\n",
    "    if result == 'negative':\n",
    "        neg = neg + (1)\n",
    "    if result == 'positive':\n",
    "        pos = pos + (1)\n",
    "        \n",
    "print('About {}% of comments regarding PG\\'s move were negative based on the twitter_sampels model.'.format(round((float(neg)/(neg+pos)*100), 2)))\n",
    "\n",
    "input_data = format_words(boogie)\n",
    "pos = 0\n",
    "neg = 0\n",
    "\n",
    "for i in range(len(input_data)):\n",
    "    result = classifier.classify(input_data[i])\n",
    "    if result == 'negative':\n",
    "        neg = neg + (1)\n",
    "    if result == 'positive':\n",
    "        pos = pos + (1)\n",
    "        \n",
    "print('About {}% of comments regarding Boogie\\'s move were negative based on the twitter_samples model.'.format(round((float(neg)/(neg+pos)*100), 2)))"
   ]
  },
  {
   "cell_type": "markdown",
   "metadata": {},
   "source": [
    "## Sentence Polarity"
   ]
  },
  {
   "cell_type": "code",
   "execution_count": 100,
   "metadata": {},
   "outputs": [],
   "source": [
    "from nltk.corpus import sentence_polarity\n",
    "pos = sentence_polarity.open('rt-polarity.pos').read().split('\\n')\n",
    "neg = sentence_polarity.open('rt-polarity.neg').read().split('\\n')\n",
    "# format_tweets accomplishes all the cleaning we want here\n",
    "positive = format_tweets(pos, 'positive')\n",
    "negative = format_tweets(neg, 'negative')"
   ]
  },
  {
   "cell_type": "code",
   "execution_count": 122,
   "metadata": {},
   "outputs": [
    {
     "name": "stdout",
     "output_type": "stream",
     "text": [
      "The accuracy of the sentence_polarity model is 75.48295454545455.\n"
     ]
    }
   ],
   "source": [
    "# Train, test, evaluate \n",
    "train = neg_tweets[1760:] + pos_tweets[1760:]\n",
    "test = neg_tweets[:1760] + pos_tweets[:1760]\n",
    "classifier = NaiveBayesClassifier.train(train)\n",
    "accuracy = nltk.classify.util.accuracy(classifier, test)\n",
    "print('The accuracy of the sentence_polarity model is {}.'.format(accuracy * 100))"
   ]
  },
  {
   "cell_type": "code",
   "execution_count": 129,
   "metadata": {},
   "outputs": [
    {
     "name": "stdout",
     "output_type": "stream",
     "text": [
      "About 60.71% of comments regarding LeBron's move were negative based on the sentence_polarity model.\n",
      "About 66.06% of comments regarding PG's move were negative based on the sentence_polarity model.\n",
      "About 69.03% of comments regarding Boogie's move were negative based on the sentence_polarity model.\n"
     ]
    }
   ],
   "source": [
    "# Test it on LeBron\n",
    "input_data = format_words(lebron)\n",
    "pos = 0\n",
    "neg = 0\n",
    "for comment in input_data:\n",
    "    result = classifier.classify(comment)\n",
    "    if result == 'negative':\n",
    "        neg = neg + 1\n",
    "    if result == 'positive':\n",
    "        pos = pos + 1\n",
    "print('About {}% of comments regarding LeBron\\'s move were negative based on the sentence_polarity model.'.format(round((float(neg)/(neg+pos)*100), 2)))\n",
    "\n",
    "input_data = format_words(pg)\n",
    "pos = 0\n",
    "neg = 0\n",
    "\n",
    "for i in range(len(input_data)):\n",
    "    result = classifier.classify(input_data[i])\n",
    "    if result == 'negative':\n",
    "        neg = neg + (1)\n",
    "    if result == 'positive':\n",
    "        pos = pos + (1)\n",
    "        \n",
    "print('About {}% of comments regarding PG\\'s move were negative based on the sentence_polarity model.'.format(round((float(neg)/(neg+pos)*100), 2)))\n",
    "\n",
    "input_data = format_words(boogie)\n",
    "pos = 0\n",
    "neg = 0\n",
    "\n",
    "for i in range(len(input_data)):\n",
    "    result = classifier.classify(input_data[i])\n",
    "    if result == 'negative':\n",
    "        neg = neg + (1)\n",
    "    if result == 'positive':\n",
    "        pos = pos + (1)\n",
    "        \n",
    "print('About {}% of comments regarding Boogie\\'s move were negative based on the sentence_polarity model.'.format(round((float(neg)/(neg+pos)*100), 2)))"
   ]
  },
  {
   "cell_type": "markdown",
   "metadata": {},
   "source": [
    "### Conclusion: \n",
    "It's clear that the twitter samples and sentence polarity corpuses give better results than the opinion_lexicon corpus. They give very similar results, so the choice here isn't especially substantial. I'll select the sentence_polarity model since the sentences here are in longer form than the twitter comments, and so they therefore mirror reddit comments better. "
   ]
  },
  {
   "cell_type": "markdown",
   "metadata": {},
   "source": [
    "# Part Five: Final Model/Final Results"
   ]
  },
  {
   "cell_type": "markdown",
   "metadata": {},
   "source": [
    "## Unweighted Model\n",
    "\n",
    "The results are shown in the previous section are reflected in the plot below. "
   ]
  },
  {
   "cell_type": "code",
   "execution_count": 128,
   "metadata": {},
   "outputs": [
    {
     "data": {
      "image/png": "[encoded data removed]",
      "text/plain": [
       "<Figure size 720x360 with 1 Axes>"
      ]
     },
     "metadata": {},
     "output_type": "display_data"
    }
   ],
   "source": [
    "plt.style.use('fivethirtyeight')\n",
    "matplotlib.rcParams['figure.figsize'] = [10, 5]\n",
    "neg = np.array([60.71,69.03,66.06])\n",
    "pos = 100 - neg\n",
    "ind = np.arange(3) \n",
    "p1 = plt.bar(ind, pos)\n",
    "p2 = plt.bar(ind, neg, bottom = pos)\n",
    "plt.title('Sentiment of Reddit Comments \\n Weighted')\n",
    "plt.xlabel('Player')\n",
    "plt.ylabel('Percent')\n",
    "plt.xticks(ind, ('LeBron', 'Boogie', 'PG13'))\n",
    "plt.legend(('Positive', 'Negative'))\n",
    "plt.show()"
   ]
  },
  {
   "cell_type": "markdown",
   "metadata": {},
   "source": [
    "## Weighted"
   ]
  },
  {
   "cell_type": "code",
   "execution_count": 134,
   "metadata": {},
   "outputs": [
    {
     "name": "stdout",
     "output_type": "stream",
     "text": [
      "About 81.11% of comments regarding LeBron's move were negative.\n",
      "About 79.02% of comments regarding PG's move were negative.\n",
      "About 68.27% of comments regarding Boogie's move were negative.\n"
     ]
    }
   ],
   "source": [
    "# Instantiate LeBron submission\n",
    "submission = reddit.submission(url='https://www.reddit.com/r/nba/comments/8ve9rs/withers_lebron_signing_with_lakers/')\n",
    "\n",
    "# We need the comment ID to determine score\n",
    "ids = []\n",
    "for top_level_comment in submission.comments:\n",
    "    if isinstance(top_level_comment, MoreComments):\n",
    "        continue\n",
    "    ids.append(top_level_comment.id)\n",
    "\n",
    "# Remember that we took out the first comment, so only append from 1 onward \n",
    "# List that will contain our scores \n",
    "votes_lebron = []\n",
    "for id_no in ids[1:]: \n",
    "    comment = reddit.comment(id = id_no)\n",
    "    votes_lebron.append(comment.score)\n",
    "    \n",
    "input_data = format_words(lebron)\n",
    "pos = 0\n",
    "neg = 0\n",
    "\n",
    "for i in range(len(input_data)):\n",
    "    result = classifier.classify(input_data[i])\n",
    "    prop = np.float(votes_lebron[i])/np.sum(votes_lebron)\n",
    "    if result == 'negative':\n",
    "        neg = neg + (1*prop)\n",
    "    if result == 'positive':\n",
    "        pos = pos + (1*prop)\n",
    "        \n",
    "print('About {}% of comments regarding LeBron\\'s move were negative.'.format(round((float(neg)/(neg+pos)*100), 2)))\n",
    "\n",
    "\n",
    "# Instantiate PG submission\n",
    "submission = reddit.submission(url='https://www.reddit.com/r/nba/comments/8v7ac7/wojnarowski_paul_george_has_committed_to_sign_a/')\n",
    "\n",
    "# We need the comment ID to determine score\n",
    "ids = []\n",
    "for top_level_comment in submission.comments:\n",
    "    if isinstance(top_level_comment, MoreComments):\n",
    "        continue\n",
    "    ids.append(top_level_comment.id)\n",
    "\n",
    "# Remember that we took out the first comment, so only append from 1 onward \n",
    "# List that will contain our scores \n",
    "votes_pg = []\n",
    "for id_no in ids[1:]: \n",
    "    comment = reddit.comment(id = id_no)\n",
    "    votes_pg.append(comment.score)\n",
    "    \n",
    "input_data = format_words(pg)\n",
    "pos = 0\n",
    "neg = 0\n",
    "\n",
    "for i in range(len(input_data)):\n",
    "    result = classifier.classify(input_data[i])\n",
    "    prop = np.float(votes_pg[i])/np.sum(votes_pg)\n",
    "    if result == 'negative':\n",
    "        neg = neg + (1*prop)\n",
    "    if result == 'positive':\n",
    "        pos = pos + (1*prop)\n",
    "        \n",
    "print('About {}% of comments regarding PG\\'s move were negative.'.format(round((float(neg)/(neg+pos)*100), 2)))\n",
    "\n",
    "\n",
    "# Instantiate Boogie submission\n",
    "submission = reddit.submission(url='https://www.reddit.com/r/nba/comments/8vnrvy/charania_free_agent_demarcus_cousins_has_agreed/')\n",
    "\n",
    "# We need the comment ID to determine score\n",
    "ids = []\n",
    "for top_level_comment in submission.comments:\n",
    "    if isinstance(top_level_comment, MoreComments):\n",
    "        continue\n",
    "    ids.append(top_level_comment.id)\n",
    "\n",
    "# Remember that we took out the first comment, so only append from 1 onward \n",
    "# List that will contain our scores \n",
    "votes_boogie = []\n",
    "for id_no in ids[1:]: \n",
    "    comment = reddit.comment(id = id_no)\n",
    "    votes_boogie.append(comment.score)\n",
    "    \n",
    "input_data = format_words(boogie)\n",
    "pos = 0\n",
    "neg = 0\n",
    "\n",
    "for i in range(len(input_data)):\n",
    "    result = classifier.classify(input_data[i])\n",
    "    prop = np.float(votes_boogie[i])/np.sum(votes_boogie)\n",
    "    if result == 'negative':\n",
    "        neg = neg + (1*prop)\n",
    "    if result == 'positive':\n",
    "        pos = pos + (1*prop)\n",
    "        \n",
    "print('About {}% of comments regarding Boogie\\'s move were negative.'.format(round((float(neg)/(neg+pos)*100), 2)))"
   ]
  },
  {
   "cell_type": "code",
   "execution_count": 135,
   "metadata": {},
   "outputs": [
    {
     "data": {
      "image/png": "[encoded data removed]",
      "text/plain": [
       "<Figure size 720x360 with 1 Axes>"
      ]
     },
     "metadata": {},
     "output_type": "display_data"
    }
   ],
   "source": [
    "plt.style.use('fivethirtyeight')\n",
    "matplotlib.rcParams['figure.figsize'] = [10, 5]\n",
    "neg = np.array([81.11,68.27,79.05])\n",
    "pos = 100 - neg\n",
    "ind = np.arange(3) \n",
    "p1 = plt.bar(ind, pos)\n",
    "p2 = plt.bar(ind, neg, bottom = pos)\n",
    "plt.title('Sentiment of Reddit Comments \\n Weighted')\n",
    "plt.xlabel('Player')\n",
    "plt.ylabel('Percent')\n",
    "plt.xticks(ind, ('LeBron', 'Boogie', 'PG13'))\n",
    "plt.legend(('Positive', 'Negative'))\n",
    "plt.show()"
   ]
  },
  {
   "cell_type": "markdown",
   "metadata": {},
   "source": [
    "# Part Four: Conclusions\n",
    "\n",
    "## Interpretation of Results\n",
    "\n",
    "In the unweighted model, the order of negativity from least to greatest is LeBron, PG13, and Boogie. In the weighted model, the order reverses - Boogie, PG12, LeBron. How could this be? \n",
    "\n",
    "Context is incredibly important here as far as interpreting what negativity truly means. It doesn't inherently mean that users are lambasting the decision itself, or the player themselves. For the Paul George decision, much of the thread focused on how bad Lakers fans feel or how unexpected the decision was given the expectation that PG would go to the Lakers. For LeBron, many users were incredibly shocked, using words like fuck and shit frequently. The only thread analyzed where the majority of negative comments were in fact lambasting the move itself was with DeMarcus Cousins, which was to be expected given the narrative of a fifth All-Star joining one of the best teams of all time. But still, many of these comments were expressing major shock, again using words like fuck (outside of \"fuck the warriors/fuck boogie\"). \n",
    "\n",
    "Because there are also high rates of misclassification in the model, misclassified entries can dramatically skew the weighted model. Therefore, I find it best to select the unweighted model. \n",
    "\n",
    "\n",
    "## Limitations\n",
    "There are also big shortcomings in the model. First, the data wasn't trained on reddit comments, so the model and accuracy are hardly representative of the comments we're passing through. Thus, we have a much higher proportion of negative words, becuase the classifier determines any word it doesn't understand is negative.\n",
    "\n",
    "Second, it can't determine context from certain neutral phrases. For example, \"Holy fuck!\" or \"Holy shit!\" show up very frequently, but both \"fuck\" and \"shit\" are counted as \"negative\" words. So \"Holy fuck this is amazing!\" can be considered negative if fuck is weighted more negative than amazing is weighted positive. \n",
    "\n",
    "All in all, the model needs to be trained much more to derive stronger conclusions from these sorts of threads. As is, however, they give us good insight on an ordinal level. We can certainly conclude that LeBron's decision was the most well-received move compared to the others. The extent can be determined with future analysis. "
   ]
  }
 ],
 "metadata": {
  "kernelspec": {
   "display_name": "Python 3",
   "language": "python",
   "name": "python3"
  },
  "language_info": {
   "codemirror_mode": {
    "name": "ipython",
    "version": 3
   },
   "file_extension": ".py",
   "mimetype": "text/x-python",
   "name": "python",
   "nbconvert_exporter": "python",
   "pygments_lexer": "ipython3",
   "version": "3.6.5"
  }
 },
 "nbformat": 4,
 "nbformat_minor": 2
}
